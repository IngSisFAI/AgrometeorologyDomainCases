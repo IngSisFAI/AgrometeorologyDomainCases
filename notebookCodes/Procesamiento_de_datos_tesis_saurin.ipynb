{
  "nbformat": 4,
  "nbformat_minor": 0,
  "metadata": {
    "colab": {
      "provenance": []
    },
    "kernelspec": {
      "name": "python3",
      "display_name": "Python 3"
    },
    "language_info": {
      "name": "python"
    }
  },
  "cells": [
    {
      "cell_type": "markdown",
      "source": [
        "# **Procesado de datos**"
      ],
      "metadata": {
        "id": "EN2OhIj3uhjO"
      }
    },
    {
      "cell_type": "code",
      "source": [
        "#Se importan las librerias necesarias\n",
        "import pandas as pd\n",
        "import numpy as np\n",
        "from sklearn.impute import KNNImputer"
      ],
      "metadata": {
        "id": "BQU7x9cvu0r_"
      },
      "execution_count": null,
      "outputs": []
    },
    {
      "cell_type": "code",
      "execution_count": null,
      "metadata": {
        "id": "mfYUZb7KugOO"
      },
      "outputs": [],
      "source": [
        "#Se carga el dataframe original\n",
        "df = pd.read_csv('dataframe.txt', delimiter=\"\\t\", header=None)"
      ]
    },
    {
      "cell_type": "code",
      "source": [
        "#Pasos para corregir el nombre de las columnas del dataframe\n",
        "df.iloc[0] = df.iloc[0].fillna('')\n",
        "df.columns = df.iloc[0] + df.iloc[1]\n",
        "df = df.iloc[2:].reset_index(drop=True)"
      ],
      "metadata": {
        "id": "JRUXTrwqu9MS"
      },
      "execution_count": null,
      "outputs": []
    },
    {
      "cell_type": "code",
      "source": [
        "#Creo las columnas dia-mes-anio y luego borro la columna date\n",
        "df[['dia','mes','anio']] = df.Date.str.split(\"/\", expand = True)\n",
        "del df[\"Date\"]"
      ],
      "metadata": {
        "id": "aLerKvgMvCT3"
      },
      "execution_count": null,
      "outputs": []
    },
    {
      "cell_type": "code",
      "source": [
        "#Se pasan a numéricos los datos\n",
        "df = df.apply(pd.to_numeric, errors='coerce')"
      ],
      "metadata": {
        "id": "ihYvm2VMvU_y"
      },
      "execution_count": null,
      "outputs": []
    },
    {
      "cell_type": "code",
      "source": [
        "#Se eliminan los meses que no sirven\n",
        "df = df[df.mes != 1]\n",
        "df = df[df.mes != 2]\n",
        "df = df[df.mes != 3]\n",
        "df = df[df.mes != 4]\n",
        "df = df[df.mes != 5]\n",
        "df = df[df.mes != 10]\n",
        "df = df[df.mes != 11]\n",
        "df = df[df.mes != 12]"
      ],
      "metadata": {
        "id": "DaWG4qjevb9I"
      },
      "execution_count": null,
      "outputs": []
    },
    {
      "cell_type": "code",
      "source": [
        "#Se eliminan las columnas no relevantes para regina\n",
        "#### df = df.drop(df.columns[[0,1,2,7,8,9,10,11,13,14,15,17,18,19,20,21,22,23,24,25,26,27,28,29,30,31,32]], axis=1)\n",
        "\n",
        "#Se eliminan las columnas no relevantes para guerrico\n",
        "#### df = df.drop(df.columns[[0,1,2,7,8,9,10,11,12,13,14,15,17,18,19,20,22,23,24,25,26,27,28,29,30,31,32,34,35,36,37,38,39,40,41]], axis=1)"
      ],
      "metadata": {
        "id": "cROC0Wd7vl5b"
      },
      "execution_count": null,
      "outputs": []
    },
    {
      "cell_type": "code",
      "source": [
        "#Se eliminan las columnas innecesarias restantes\n",
        "del df[\"dia\"]\n",
        "del df[\"mes\"]\n",
        "del df[\"anio\"]"
      ],
      "metadata": {
        "id": "WUaPLIL2vejy"
      },
      "execution_count": null,
      "outputs": []
    },
    {
      "cell_type": "code",
      "source": [
        "#Se imputan valores nulos\n",
        "df_imputed = df.copy()\n",
        "knn_imputer = KNNImputer(n_neighbors=1)\n",
        "df_imputed[df.columns] = knn_imputer.fit_transform(df)"
      ],
      "metadata": {
        "id": "cnMH_aY5v1r1"
      },
      "execution_count": null,
      "outputs": []
    },
    {
      "cell_type": "code",
      "source": [
        "#Se guarda el dataframe generado como csv para evitar realizar el imputer en el futuro\n",
        "df_imputed.to_csv('dataframe_procesado.csv', index=False)"
      ],
      "metadata": {
        "id": "om43ra0NwDj9"
      },
      "execution_count": null,
      "outputs": []
    }
  ]
}